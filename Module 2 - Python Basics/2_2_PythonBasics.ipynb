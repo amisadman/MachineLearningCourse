{
  "nbformat": 4,
  "nbformat_minor": 0,
  "metadata": {
    "colab": {
      "provenance": []
    },
    "kernelspec": {
      "name": "python3",
      "display_name": "Python 3"
    },
    "language_info": {
      "name": "python"
    }
  },
  "cells": [
    {
      "cell_type": "markdown",
      "source": [
        "[Class Link](https://www.youtube.com/watch?v=Ud7zeYNy1Zw)"
      ],
      "metadata": {
        "id": "hvLVZ-azArS1"
      }
    },
    {
      "cell_type": "markdown",
      "source": [
        "Programming Language Used for Machine Learning\n",
        "\n",
        "1. Python (Prefered, Easy to Understand and use, General Purpose Language)\n",
        "2. R (Statistical Based)"
      ],
      "metadata": {
        "id": "nOu7S_S9B26g"
      }
    },
    {
      "cell_type": "markdown",
      "source": [
        "#The Print Function"
      ],
      "metadata": {
        "id": "TstRPgY8DvPk"
      }
    },
    {
      "cell_type": "code",
      "execution_count": 1,
      "metadata": {
        "colab": {
          "base_uri": "https://localhost:8080/"
        },
        "id": "LKGNFEJ6Ag8y",
        "outputId": "47f2c2be-04c5-45b1-fd00-8611ee9be926"
      },
      "outputs": [
        {
          "output_type": "stream",
          "name": "stdout",
          "text": [
            "Machine Learning\n"
          ]
        }
      ],
      "source": [
        "print(\"Machine Learning\") #The Print Function"
      ]
    },
    {
      "cell_type": "code",
      "source": [
        "print(\"Machine Learning \"+\"Projects\") #concatanation"
      ],
      "metadata": {
        "colab": {
          "base_uri": "https://localhost:8080/"
        },
        "id": "yQsB-FlLD4Qi",
        "outputId": "127b59d6-330a-49df-90b3-1ad3970a4701"
      },
      "execution_count": 2,
      "outputs": [
        {
          "output_type": "stream",
          "name": "stdout",
          "text": [
            "Machine Learning Projects\n"
          ]
        }
      ]
    },
    {
      "cell_type": "code",
      "source": [
        "print(8) #printing integer"
      ],
      "metadata": {
        "colab": {
          "base_uri": "https://localhost:8080/"
        },
        "id": "qM_-iBwtERmm",
        "outputId": "e167b47e-d4f6-4c60-ae84-0ebc6a96b064"
      },
      "execution_count": 3,
      "outputs": [
        {
          "output_type": "stream",
          "name": "stdout",
          "text": [
            "8\n"
          ]
        }
      ]
    },
    {
      "cell_type": "code",
      "source": [
        "print(8+154446-55*5/3) # we can also do arithmatic operation inside the print function"
      ],
      "metadata": {
        "colab": {
          "base_uri": "https://localhost:8080/"
        },
        "id": "LKwExZoWEdiy",
        "outputId": "17e34be6-f9fe-4358-fa0c-a085cf68bcb7"
      },
      "execution_count": 4,
      "outputs": [
        {
          "output_type": "stream",
          "name": "stdout",
          "text": [
            "154362.33333333334\n"
          ]
        }
      ]
    },
    {
      "cell_type": "markdown",
      "source": [
        "#Data Types"
      ],
      "metadata": {
        "id": "yTYJue3ME_ze"
      }
    },
    {
      "cell_type": "markdown",
      "source": [
        "Basic Data Types\n",
        "\n",
        "1.   int\n",
        "2.   float\n",
        "3.   str\n",
        "\n",
        "\n"
      ],
      "metadata": {
        "id": "j2SswtquFEIk"
      }
    },
    {
      "cell_type": "code",
      "source": [
        "type(8)"
      ],
      "metadata": {
        "colab": {
          "base_uri": "https://localhost:8080/"
        },
        "id": "eBo59xu4EtSy",
        "outputId": "c1289b92-41a8-4aa4-fbb0-795316c20ab5"
      },
      "execution_count": 5,
      "outputs": [
        {
          "output_type": "execute_result",
          "data": {
            "text/plain": [
              "int"
            ]
          },
          "metadata": {},
          "execution_count": 5
        }
      ]
    },
    {
      "cell_type": "code",
      "source": [
        "type(1.2)"
      ],
      "metadata": {
        "colab": {
          "base_uri": "https://localhost:8080/"
        },
        "id": "Xw1Y0aDBFWoG",
        "outputId": "a147c6b7-528e-478c-e66d-84c71c601e7e"
      },
      "execution_count": 6,
      "outputs": [
        {
          "output_type": "execute_result",
          "data": {
            "text/plain": [
              "float"
            ]
          },
          "metadata": {},
          "execution_count": 6
        }
      ]
    },
    {
      "cell_type": "code",
      "source": [
        "type(\"sadman\")"
      ],
      "metadata": {
        "colab": {
          "base_uri": "https://localhost:8080/"
        },
        "id": "Tl6krzWqFZV2",
        "outputId": "db69e2df-4093-49dd-96c9-bab787b2f101"
      },
      "execution_count": 7,
      "outputs": [
        {
          "output_type": "execute_result",
          "data": {
            "text/plain": [
              "str"
            ]
          },
          "metadata": {},
          "execution_count": 7
        }
      ]
    },
    {
      "cell_type": "markdown",
      "source": [
        "#Constants and Variables\n"
      ],
      "metadata": {
        "id": "X8bcorQcFnHG"
      }
    },
    {
      "cell_type": "code",
      "source": [
        "superhero = \"Iron Man\" #superhero is the variable(container) \"Iron Man is the value\"\n",
        "print(superhero)\n"
      ],
      "metadata": {
        "colab": {
          "base_uri": "https://localhost:8080/"
        },
        "id": "NlPinidoFdTG",
        "outputId": "aff02589-5217-43ff-b6d8-231f2c711ebc"
      },
      "execution_count": 9,
      "outputs": [
        {
          "output_type": "stream",
          "name": "stdout",
          "text": [
            "Iron Man\n"
          ]
        }
      ]
    },
    {
      "cell_type": "code",
      "source": [
        "hero1,hero2,hero3 = \"Iron Man\",\"Captain America\", \"Spider Man\" # We can also assign value like this\n",
        "print(hero1)\n",
        "print(hero2)\n",
        "print(hero3)"
      ],
      "metadata": {
        "colab": {
          "base_uri": "https://localhost:8080/"
        },
        "id": "BF3mX7YyGJC3",
        "outputId": "db492a4c-77b6-4c3c-97af-83c7586dd9b4"
      },
      "execution_count": 11,
      "outputs": [
        {
          "output_type": "stream",
          "name": "stdout",
          "text": [
            "Iron Man\n",
            "Captain America\n",
            "Spider Man\n"
          ]
        }
      ]
    },
    {
      "cell_type": "code",
      "source": [
        "x = y = z = 32\n",
        "print(x)\n",
        "print(y)\n",
        "print(z)\n"
      ],
      "metadata": {
        "colab": {
          "base_uri": "https://localhost:8080/"
        },
        "id": "6AnZ8p0iGugM",
        "outputId": "fec28ac6-98ad-4781-a07b-50c9e7da7c3d"
      },
      "execution_count": 12,
      "outputs": [
        {
          "output_type": "stream",
          "name": "stdout",
          "text": [
            "32\n",
            "32\n",
            "32\n"
          ]
        }
      ]
    },
    {
      "cell_type": "markdown",
      "source": [
        "#The Input Function"
      ],
      "metadata": {
        "id": "nEjmf0AAHZUa"
      }
    },
    {
      "cell_type": "code",
      "source": [
        "num1 : int = int(input(\"Enter a Number : \"))\n",
        "num2 : int = int(input(\"Enter a Number : \"))\n",
        "print(num1+num2)"
      ],
      "metadata": {
        "colab": {
          "base_uri": "https://localhost:8080/"
        },
        "id": "iusZrKVaHRRX",
        "outputId": "51d65556-9ca8-496a-87d7-6d8dfb03cf1f"
      },
      "execution_count": 14,
      "outputs": [
        {
          "output_type": "stream",
          "name": "stdout",
          "text": [
            "Enter a Number : 23\n",
            "Enter a Number : 23\n",
            "46\n"
          ]
        }
      ]
    },
    {
      "cell_type": "code",
      "source": [],
      "metadata": {
        "id": "VSVVPjjaIb1T"
      },
      "execution_count": null,
      "outputs": []
    }
  ]
}